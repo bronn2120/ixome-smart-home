{
 "cells": [
  {
   "cell_type": "code",
   "execution_count": 1,
   "metadata": {},
   "outputs": [
    {
     "name": "stderr",
     "output_type": "stream",
     "text": [
      "/home/vincent/ixome/ixome/lib/python3.11/site-packages/tqdm/auto.py:21: TqdmWarning: IProgress not found. Please update jupyter and ipywidgets. See https://ipywidgets.readthedocs.io/en/stable/user_install.html\n",
      "  from .autonotebook import tqdm as notebook_tqdm\n"
     ]
    },
    {
     "name": "stdout",
     "output_type": "stream",
     "text": [
      "API keys loaded successfully.\n",
      "Query Results: {'matches': [{'id': 'batch1_568', 'score': 0.798624277, 'values': []},\n",
      "             {'id': 'batch1_554', 'score': 0.791359305, 'values': []},\n",
      "             {'id': 'batch1_548', 'score': 0.79102844, 'values': []},\n",
      "             {'id': 'batch1_330', 'score': 0.78943795, 'values': []},\n",
      "             {'id': 'batch1_343', 'score': 0.786766589, 'values': []}],\n",
      " 'namespace': '',\n",
      " 'usage': {'read_units': 5}}\n"
     ]
    }
   ],
   "source": [
    "import os\n",
    "from dotenv import load_dotenv\n",
    "from openai import OpenAI\n",
    "from pinecone import Pinecone\n",
    "\n",
    "# Load the .env file\n",
    "load_dotenv('/home/vincent/ixome/.env')\n",
    "\n",
    "# Retrieve API keys\n",
    "openai_api_key = os.getenv('OPENAI_API_KEY')\n",
    "pinecone_api_key = os.getenv('PINECONE_API_KEY')\n",
    "\n",
    "# Check if keys are loaded\n",
    "if not openai_api_key or not pinecone_api_key:\n",
    "    print(\"Error: Missing API keys! Check /home/vincent/ixome/.env\")\n",
    "else:\n",
    "    print(\"API keys loaded successfully.\")\n",
    "\n",
    "# Initialize Pinecone\n",
    "pinecone = Pinecone(api_key=pinecone_api_key)\n",
    "index_name = 'lutron-support'\n",
    "index = pinecone.Index(index_name)\n",
    "\n",
    "# Initialize OpenAI client\n",
    "openai_client = OpenAI(api_key=openai_api_key)\n",
    "\n",
    "# Define the embedding function\n",
    "def get_embedding(text):\n",
    "    response = openai_client.embeddings.create(\n",
    "        model=\"text-embedding-ada-002\",\n",
    "        input=text\n",
    "    )\n",
    "    return response.data[0].embedding\n",
    "\n",
    "# Test query\n",
    "query_text = \"example query text\"  # Replace with your actual query, e.g., \"How do I reset my Lutron dimmer?\"\n",
    "query_embedding = get_embedding(query_text)\n",
    "results = index.query(vector=query_embedding, top_k=5)\n",
    "\n",
    "# Print the results\n",
    "print(\"Query Results:\", results)"
   ]
  }
 ],
 "metadata": {
  "kernelspec": {
   "display_name": "ixome",
   "language": "python",
   "name": "python3"
  },
  "language_info": {
   "codemirror_mode": {
    "name": "ipython",
    "version": 3
   },
   "file_extension": ".py",
   "mimetype": "text/x-python",
   "name": "python",
   "nbconvert_exporter": "python",
   "pygments_lexer": "ipython3",
   "version": "3.11.2"
  }
 },
 "nbformat": 4,
 "nbformat_minor": 2
}
